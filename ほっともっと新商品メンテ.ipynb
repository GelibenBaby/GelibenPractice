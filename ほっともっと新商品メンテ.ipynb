{
  "nbformat": 4,
  "nbformat_minor": 0,
  "metadata": {
    "colab": {
      "name": "ほっともっと新商品メンテ.ipynb",
      "provenance": [],
      "collapsed_sections": [],
      "authorship_tag": "ABX9TyOTwEreDzMiTUU/rm8dzvmb",
      "include_colab_link": true
    },
    "kernelspec": {
      "name": "python3",
      "display_name": "Python 3"
    }
  },
  "cells": [
    {
      "cell_type": "markdown",
      "metadata": {
        "id": "view-in-github",
        "colab_type": "text"
      },
      "source": [
        "<a href=\"https://colab.research.google.com/github/onaka-yurusugi/GelibenProject/blob/master/%E3%81%BB%E3%81%A3%E3%81%A8%E3%82%82%E3%81%A3%E3%81%A8%E6%96%B0%E5%95%86%E5%93%81%E3%83%A1%E3%83%B3%E3%83%86.ipynb\" target=\"_parent\"><img src=\"https://colab.research.google.com/assets/colab-badge.svg\" alt=\"Open In Colab\"/></a>"
      ]
    },
    {
      "cell_type": "markdown",
      "metadata": {
        "id": "o0jpTfc0no7O"
      },
      "source": [
        "## 環境構築"
      ]
    },
    {
      "cell_type": "code",
      "metadata": {
        "id": "M2TIIDrOVIJX",
        "colab": {
          "base_uri": "https://localhost:8080/"
        },
        "outputId": "a3e0ba09-e8a0-4f1f-c009-ca6b3421d463"
      },
      "source": [
        "!pip install requests-html"
      ],
      "execution_count": null,
      "outputs": [
        {
          "output_type": "stream",
          "name": "stdout",
          "text": [
            "Collecting requests-html\n",
            "  Downloading requests_html-0.10.0-py3-none-any.whl (13 kB)\n",
            "Collecting pyquery\n",
            "  Downloading pyquery-1.4.3-py3-none-any.whl (22 kB)\n",
            "Collecting fake-useragent\n",
            "  Downloading fake-useragent-0.1.11.tar.gz (13 kB)\n",
            "Requirement already satisfied: bs4 in /usr/local/lib/python3.7/dist-packages (from requests-html) (0.0.1)\n",
            "Collecting w3lib\n",
            "  Downloading w3lib-1.22.0-py2.py3-none-any.whl (20 kB)\n",
            "Requirement already satisfied: requests in /usr/local/lib/python3.7/dist-packages (from requests-html) (2.23.0)\n",
            "Collecting pyppeteer>=0.0.14\n",
            "  Downloading pyppeteer-0.2.6-py3-none-any.whl (83 kB)\n",
            "\u001b[K     |████████████████████████████████| 83 kB 1.6 MB/s \n",
            "\u001b[?25hCollecting parse\n",
            "  Downloading parse-1.19.0.tar.gz (30 kB)\n",
            "Collecting websockets<10.0,>=9.1\n",
            "  Downloading websockets-9.1-cp37-cp37m-manylinux2010_x86_64.whl (103 kB)\n",
            "\u001b[K     |████████████████████████████████| 103 kB 38.8 MB/s \n",
            "\u001b[?25hCollecting pyee<9.0.0,>=8.1.0\n",
            "  Downloading pyee-8.2.2-py2.py3-none-any.whl (12 kB)\n",
            "Requirement already satisfied: importlib-metadata>=1.4 in /usr/local/lib/python3.7/dist-packages (from pyppeteer>=0.0.14->requests-html) (4.8.1)\n",
            "Requirement already satisfied: tqdm<5.0.0,>=4.42.1 in /usr/local/lib/python3.7/dist-packages (from pyppeteer>=0.0.14->requests-html) (4.62.2)\n",
            "Collecting urllib3<2.0.0,>=1.25.8\n",
            "  Downloading urllib3-1.26.7-py2.py3-none-any.whl (138 kB)\n",
            "\u001b[K     |████████████████████████████████| 138 kB 37.5 MB/s \n",
            "\u001b[?25hRequirement already satisfied: appdirs<2.0.0,>=1.4.3 in /usr/local/lib/python3.7/dist-packages (from pyppeteer>=0.0.14->requests-html) (1.4.4)\n",
            "Requirement already satisfied: zipp>=0.5 in /usr/local/lib/python3.7/dist-packages (from importlib-metadata>=1.4->pyppeteer>=0.0.14->requests-html) (3.5.0)\n",
            "Requirement already satisfied: typing-extensions>=3.6.4 in /usr/local/lib/python3.7/dist-packages (from importlib-metadata>=1.4->pyppeteer>=0.0.14->requests-html) (3.7.4.3)\n",
            "Requirement already satisfied: beautifulsoup4 in /usr/local/lib/python3.7/dist-packages (from bs4->requests-html) (4.6.3)\n",
            "Requirement already satisfied: lxml>=2.1 in /usr/local/lib/python3.7/dist-packages (from pyquery->requests-html) (4.2.6)\n",
            "Collecting cssselect>0.7.9\n",
            "  Downloading cssselect-1.1.0-py2.py3-none-any.whl (16 kB)\n",
            "Requirement already satisfied: certifi>=2017.4.17 in /usr/local/lib/python3.7/dist-packages (from requests->requests-html) (2021.5.30)\n",
            "Requirement already satisfied: chardet<4,>=3.0.2 in /usr/local/lib/python3.7/dist-packages (from requests->requests-html) (3.0.4)\n",
            "Requirement already satisfied: idna<3,>=2.5 in /usr/local/lib/python3.7/dist-packages (from requests->requests-html) (2.10)\n",
            "Collecting urllib3<2.0.0,>=1.25.8\n",
            "  Downloading urllib3-1.25.11-py2.py3-none-any.whl (127 kB)\n",
            "\u001b[K     |████████████████████████████████| 127 kB 46.3 MB/s \n",
            "\u001b[?25hRequirement already satisfied: six>=1.4.1 in /usr/local/lib/python3.7/dist-packages (from w3lib->requests-html) (1.15.0)\n",
            "Building wheels for collected packages: fake-useragent, parse\n",
            "  Building wheel for fake-useragent (setup.py) ... \u001b[?25l\u001b[?25hdone\n",
            "  Created wheel for fake-useragent: filename=fake_useragent-0.1.11-py3-none-any.whl size=13502 sha256=62aa728569236d2864297fa917a8abe1e891c6c9688a4e0bda470e8aa0c31817\n",
            "  Stored in directory: /root/.cache/pip/wheels/ed/f7/62/50ab6c9a0b5567267ab76a9daa9d06315704209b2c5d032031\n",
            "  Building wheel for parse (setup.py) ... \u001b[?25l\u001b[?25hdone\n",
            "  Created wheel for parse: filename=parse-1.19.0-py3-none-any.whl size=24591 sha256=9d5d963a5957c43e39ad450840b93967627e0f7278009bfcd746ca25603620f3\n",
            "  Stored in directory: /root/.cache/pip/wheels/9c/aa/cc/f2228050ccb40f22144b073f15a2c84f11204f29fc0dce028e\n",
            "Successfully built fake-useragent parse\n",
            "Installing collected packages: websockets, urllib3, pyee, cssselect, w3lib, pyquery, pyppeteer, parse, fake-useragent, requests-html\n",
            "  Attempting uninstall: urllib3\n",
            "    Found existing installation: urllib3 1.24.3\n",
            "    Uninstalling urllib3-1.24.3:\n",
            "      Successfully uninstalled urllib3-1.24.3\n",
            "\u001b[31mERROR: pip's dependency resolver does not currently take into account all the packages that are installed. This behaviour is the source of the following dependency conflicts.\n",
            "datascience 0.10.6 requires folium==0.2.1, but you have folium 0.8.3 which is incompatible.\u001b[0m\n",
            "Successfully installed cssselect-1.1.0 fake-useragent-0.1.11 parse-1.19.0 pyee-8.2.2 pyppeteer-0.2.6 pyquery-1.4.3 requests-html-0.10.0 urllib3-1.25.11 w3lib-1.22.0 websockets-9.1\n"
          ]
        }
      ]
    },
    {
      "cell_type": "code",
      "metadata": {
        "id": "sXEubkIULJqm",
        "colab": {
          "base_uri": "https://localhost:8080/"
        },
        "outputId": "4592a0fa-eb55-4bec-9edd-2d5f7b6b1411"
      },
      "source": [
        "\n",
        "from requests_html import HTMLSession\n",
        "\n",
        "session = HTMLSession()\n",
        "\n",
        "base_url = \"https://www.benricho.org/moji_conv/14_shin_kyu_kanji.html\"\n",
        "\n",
        "resp = session.get(base_url)\n",
        "\n",
        "olds = resp.html.xpath('//div[10]/table/tbody/tr[1]/td/@href')\n",
        "\n",
        "print(olds)\n",
        "\n",
        "# worksheet = workbook.sheet1\n",
        "# '''\n",
        "# # それぞれの商品ページ内での処理\n",
        "# '''\n",
        "# for item in url_array:\n",
        "#   result = session.get(item)\n",
        "#   result.html.url\n",
        "#   obento_title = result.html.xpath('//*[@id=\"top\"]/div/main/section/div/div[1]/h1')[0].text\n",
        "#   obento_price = result.html.xpath('//*[@id=\"top\"]/div/main/section/div/div[2]/div/dl[1]/dd/span')[0].text\n",
        "#   obento_detail = result.html.xpath('//*[@id=\"top\"]/div/main/section/div/div[2]/div/p')[0].text\n",
        "#   # アレルギー判断処理追加\n",
        "#   allergie_array = result.html.xpath('//dd/ul/li')\n",
        "#   obento_allergie = \"\"\n",
        "#   for allergie in allergie_array:\n",
        "#     obento_allergie += allergie.text + \",\"\n",
        "#   obento_allergie = obento_allergie.rstrip(\",\")\n",
        "#   obento_image_alt = hottomotto_url + (result.html.xpath('//picture/img/@src'))[0]\n",
        "#   obento_image = \"=IMAGE(\\\"\" + obento_image_alt  + \"\\\")\"\n",
        "\n",
        "#   print(obento_title)\n",
        "#   print(obento_price)\n",
        "#   print(obento_detail)\n",
        "#   print(obento_image)\n",
        "#   print(obento_allergie)\n",
        "#   worksheet.append_row([obento_title, obento_price, obento_detail, obento_allergie, obento_image, obento_image_alt], value_input_option = \"USER_ENTERED\")\n",
        "\n",
        "#   print(\"────────────────────────────────────────\")\n",
        "\n",
        "# print(\"完了！\")"
      ],
      "execution_count": null,
      "outputs": [
        {
          "output_type": "stream",
          "name": "stdout",
          "text": [
            "[]\n"
          ]
        }
      ]
    },
    {
      "cell_type": "markdown",
      "metadata": {
        "id": "_geepCFcnJa-"
      },
      "source": [
        "## レギュラーメニュー"
      ]
    },
    {
      "cell_type": "code",
      "metadata": {
        "id": "Nu5WAFoyMgi1"
      },
      "source": [
        "from requests_html import HTMLSession\n",
        "\n",
        "session = HTMLSession()\n",
        "\n",
        "workbook_url = \"https://docs.google.com/spreadsheets/d/1kaHmfwa3hbGWWfhVZE8AABqxTK1Z9SVkQH8Rwf80gzY/edit#gid=1017580553\"\n",
        "workbook = gc.open_by_url(workbook_url)\n",
        "\n",
        "hottomotto_url = \"https://www.hottomotto.com\"\n",
        "fetch_path = \"/menu_list/select/46\"\n",
        "headers = {'User-Agent': 'Mozilla/5.0 (Macintosh; Intel Mac OS X 10_14_6) AppleWebKit/537.36 (KHTML, like Gecko) Chrome/86.0.4222.0 Safari/537.36'}\n",
        "\n",
        "'''\n",
        "# メニュー画面内での処理\n",
        "'''\n",
        "\n",
        "# fetch_url: https://www.hottomotto.com/menu_list/select/46\n",
        "fetch_url = hottomotto_url + fetch_path\n",
        "print(\"取得URL: \" + fetch_url)\n",
        "\n",
        "resp = session.get(fetch_url)\n",
        "resp.html.url\n",
        "urls = resp.html.xpath('//*[@id=\"box-category\"]/li[1]/ul[2]/li')\n",
        "url_array = []\n",
        "\n",
        "# それぞれの商品のURLを取得\n",
        "for i in range (1, len(urls)):\n",
        "  url = resp.html.xpath('//*[@id=\"box-category\"]/li[1]/ul[2]/li[' + str(i) + ']/a/@href')\n",
        "  url_array.append(hottomotto_url + url[0])\n",
        "print(url_array)\n",
        "\n",
        "print()\n",
        "\n",
        "worksheet = workbook.sheet1\n",
        "'''\n",
        "# それぞれの商品ページ内での処理\n",
        "'''\n",
        "for item in url_array:\n",
        "  result = session.get(item)\n",
        "  result.html.url\n",
        "  obento_title = result.html.xpath('//*[@id=\"top\"]/div/main/section/div/div[1]/h1')[0].text\n",
        "  obento_price = result.html.xpath('//*[@id=\"top\"]/div/main/section/div/div[2]/div/dl[1]/dd/span')[0].text\n",
        "  obento_detail = result.html.xpath('//*[@id=\"top\"]/div/main/section/div/div[2]/div/p')[0].text\n",
        "  # アレルギー判断処理追加\n",
        "  allergie_array = result.html.xpath('//dd/ul/li')\n",
        "  obento_allergie = \"\"\n",
        "  for allergie in allergie_array:\n",
        "    obento_allergie += allergie.text + \",\"\n",
        "  obento_allergie = obento_allergie.rstrip(\",\")\n",
        "  # obento_image_alt = hottomotto_url + (result.html.xpath('//picture/img/@src'))[0].text\n",
        "  obento_image = \"=IMAGE(\\\"\" + obento_image_alt  + \"\\\")\"\n",
        "\n",
        "  print(obento_title)\n",
        "  print(obento_price)\n",
        "  print(obento_detail)\n",
        "  print(obento_image)\n",
        "  print(obento_allergie)\n",
        "  worksheet.append_row([obento_title, obento_price, obento_detail, obento_allergie, obento_image], value_input_option = \"USER_ENTERED\")\n",
        "\n",
        "  print(\"────────────────────────────────────────\")\n",
        "\n",
        "print(\"完了！\")"
      ],
      "execution_count": null,
      "outputs": []
    },
    {
      "cell_type": "markdown",
      "metadata": {
        "id": "pe_HhdILnc8M"
      },
      "source": [
        "## レギュラーメニュー（小盛りOK）"
      ]
    },
    {
      "cell_type": "code",
      "metadata": {
        "id": "7Kuv0n6pzh8U"
      },
      "source": [
        "from requests_html import HTMLSession\n",
        "\n",
        "session = HTMLSession()\n",
        "\n",
        "workbook_url = \"https://docs.google.com/spreadsheets/d/1kaHmfwa3hbGWWfhVZE8AABqxTK1Z9SVkQH8Rwf80gzY/edit#gid=1017580553\"\n",
        "workbook = gc.open_by_url(workbook_url)\n",
        "\n",
        "hottomotto_url = \"https://www.hottomotto.com\"\n",
        "fetch_path = \"/menu_list/select/46\"\n",
        "headers = {'User-Agent': 'Mozilla/5.0 (Macintosh; Intel Mac OS X 10_14_6) AppleWebKit/537.36 (KHTML, like Gecko) Chrome/86.0.4222.0 Safari/537.36'}\n",
        "\n",
        "'''\n",
        "# メニュー画面内での処理\n",
        "'''\n",
        "\n",
        "# fetch_url: https://www.hottomotto.com/menu_list/select/46\n",
        "fetch_url = hottomotto_url + fetch_path\n",
        "print(\"取得URL: \" + fetch_url)\n",
        "\n",
        "resp = session.get(fetch_url)\n",
        "resp.html.url\n",
        "urls = resp.html.xpath('//*[@id=\"box-category\"]/li[1]/ul[3]/li')\n",
        "url_array = []\n",
        "\n",
        "# それぞれの商品のURLを取得\n",
        "for i in range (1, len(urls)):\n",
        "  url = resp.html.xpath('//*[@id=\"box-category\"]/li[1]/ul[3]/li[' + str(i) + ']/a/@href')\n",
        "  url_array.append(hottomotto_url + url[0])\n",
        "print(url_array)\n",
        "\n",
        "print()\n",
        "\n",
        "worksheet = workbook.sheet1\n",
        "'''\n",
        "# それぞれの商品ページ内での処理\n",
        "'''\n",
        "for item in url_array:\n",
        "  result = session.get(item)\n",
        "  result.html.url\n",
        "  obento_title = result.html.xpath('//*[@id=\"top\"]/div/main/section/div/div[1]/h1')[0].text\n",
        "  obento_price = result.html.xpath('//*[@id=\"top\"]/div/main/section/div/div[2]/div/dl[1]/dd/span')[0].text\n",
        "  obento_detail = result.html.xpath('//*[@id=\"top\"]/div/main/section/div/div[2]/div/p')[0].text\n",
        "  # アレルギー判断処理追加\n",
        "  allergie_array = result.html.xpath('//dd/ul/li')\n",
        "  obento_allergie = \"\"\n",
        "  for allergie in allergie_array:\n",
        "    obento_allergie += allergie.text + \",\"\n",
        "  obento_allergie = obento_allergie.rstrip(\",\")\n",
        "  # obento_image_alt = hottomotto_url + (result.html.xpath('//picture/img/@src'))[0].text\n",
        "  obento_image = \"=IMAGE(\\\"\" + obento_image_alt  + \"\\\")\"\n",
        "\n",
        "  print(obento_title)\n",
        "  print(obento_price)\n",
        "  print(obento_detail)\n",
        "  print(obento_image)\n",
        "  print(obento_allergie)\n",
        "  worksheet.append_row([obento_title, obento_price, obento_detail, obento_allergie, obento_image], value_input_option = \"USER_ENTERED\")\n",
        "\n",
        "  print(\"────────────────────────────────────────\")\n",
        "\n",
        "print(\"完了！\")"
      ],
      "execution_count": null,
      "outputs": []
    }
  ]
}